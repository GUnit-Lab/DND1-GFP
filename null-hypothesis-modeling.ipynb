{
  "nbformat": 4,
  "nbformat_minor": 0,
  "metadata": {
    "colab": {
      "name": "Null Hypothesis Modeling",
      "provenance": [],
      "include_colab_link": true
    },
    "kernelspec": {
      "name": "python3",
      "display_name": "Python 3"
    }
  },
  "cells": [
    {
      "cell_type": "markdown",
      "metadata": {
        "id": "view-in-github",
        "colab_type": "text"
      },
      "source": [
        "<a href=\"https://colab.research.google.com/gist/valext34/5448ebe591f4fe928581d1889be4fdb0/null-hypothesis-modeling.ipynb\" target=\"_parent\"><img src=\"https://colab.research.google.com/assets/colab-badge.svg\" alt=\"Open In Colab\"/></a>"
      ]
    },
    {
      "cell_type": "markdown",
      "metadata": {
        "id": "0PByVScaus_M",
        "colab_type": "text"
      },
      "source": [
        "# Modeling the Null Hypothesis \n",
        "\n",
        "## Background\n",
        "\n",
        "We are trying to see the distribution of the cells (~2000) when given 3 binary questions, and there must be at least one success. Here, I am assuming that the probability of success for each color is the same and equal to p = .5.\n",
        "Naturally, since we are starting off with an equal chance of success or failure, the probability of the cell falling into either one of the categories is the same, and hence the null would be that the distribution is uniform, proportion = 1/7 for each category. This model helps confirm that.\n",
        "\n",
        "In the case that the probability of success is the same for all three stains, but different, you can adjust p as required. \n",
        "\n",
        "In the case that the probability of success for each stain is different, I have added separate functions to play around with this. \n",
        "At the bottom I have included a variety of histograms to help show these differences. \n",
        "\n",
        "This modeling will use a Bernoulli distribution, since we are not looking at the number of successes but the order of the successes in a string of three Bernoulli random variables. Since there must be at least one success, modeling will be easier to accomplish than finding the probability by hand that the cells fall into one of the 7 groups (g, b, r, gb, gr, br, gbr), especially if the probababilites are not .5."
      ]
    },
    {
      "cell_type": "code",
      "metadata": {
        "id": "VZ830iRIvXPg",
        "colab_type": "code",
        "colab": {
          "base_uri": "https://localhost:8080/",
          "height": 51
        },
        "outputId": "c1306d6a-3d8f-47d6-f18b-e6ae6bffe10d"
      },
      "source": [
        "from random import random\n",
        "\n",
        "def rbern1(p):\n",
        "  return 1 if random()<p else 0\n",
        "#our single bernoulli random variable\n",
        "\n",
        "def rbern(n,p):\n",
        "  return [rbern1(p) for i in range(n)]\n",
        "#returns a list of 1's and 0's\n",
        "print(rbern(3,.5)) #test\n",
        "\n",
        "#we want our list to have at least one 1, since our cell must be in at least one of the categories \n",
        "\n",
        "def sbern(n,p):\n",
        "  while True:\n",
        "    l = rbern(n,p)\n",
        "    if sum(l)==0:\n",
        "      l = rbern(n,p)\n",
        "    else: return l\n",
        "\n",
        "print(sbern(3,.5)) #test\n"
      ],
      "execution_count": null,
      "outputs": [
        {
          "output_type": "stream",
          "text": [
            "[1, 1, 0]\n",
            "[0, 1, 1]\n"
          ],
          "name": "stdout"
        }
      ]
    },
    {
      "cell_type": "code",
      "metadata": {
        "id": "LH4pMLPW25m8",
        "colab_type": "code",
        "colab": {
          "base_uri": "https://localhost:8080/",
          "height": 34
        },
        "outputId": "93e9fd20-2217-4e0a-fa0c-4d9d87a3b869"
      },
      "source": [
        "#now we have the each cell's response to the \"3 questions\", and we need to divide the results into categories\n",
        "\n",
        "N = 20 #let this be the number of cells you are interested in modeling \n",
        "\n",
        "def categories(N,n,p): #N is the number of cells, n is the number of colors, p is probability of success, .5, \n",
        "  cells= []\n",
        "  for i in range(N):\n",
        "    l = sbern(n,p)\n",
        "    if l[0]==1 and l[1]==0 and l[2]==0:\n",
        "      cells.append(1)                       #1 is our number for the green cells\n",
        "    elif l[0]==1 and l[1]==1 and l[2]==0:\n",
        "      cells.append(2)                       #2 is green blue\n",
        "    elif l[0]==1 and l[1]==1 and l[2]==1:\n",
        "      cells.append(3)                       #3 is all three\n",
        "    elif l[0]==1 and l[1]==0 and l[2]==1:\n",
        "      cells.append(4)                       #4 is green red\n",
        "    elif l[0]==0 and l[1]==1 and l[2]==0:\n",
        "      cells.append(5)                       #5 is blue\n",
        "    elif l[0]==0 and l[1]==1 and l[2]==1:\n",
        "      cells.append(6)                       #6 is blue red\n",
        "    elif l[0]==0 and l[1]==0 and l[2]==1:\n",
        "      cells.append(7)                       #7 is red\n",
        "  return cells\n",
        "#the categories are numbered instead of labeled with letters to make plotting easier\n",
        "\n",
        "print(categories(N,3,.5)) #test\n"
      ],
      "execution_count": null,
      "outputs": [
        {
          "output_type": "stream",
          "text": [
            "[1, 7, 3, 4, 4, 4, 2, 7, 1, 2, 5, 3, 1, 1, 1, 1, 1, 7, 4, 6]\n"
          ],
          "name": "stdout"
        }
      ]
    },
    {
      "cell_type": "code",
      "metadata": {
        "id": "qv66IhRp3QYP",
        "colab_type": "code",
        "colab": {
          "base_uri": "https://localhost:8080/",
          "height": 317
        },
        "outputId": "e88628a2-59ac-459b-a671-82aa931554d5"
      },
      "source": [
        "#finally, to find probabilities and plot the data\n",
        "from matplotlib import pyplot as plt \n",
        "\n",
        "#finding the list:\n",
        "N = 5000\n",
        "n = 3\n",
        "p = .5\n",
        "\n",
        "lst = categories(N,n,p)\n",
        "\n",
        "#probabilities:\n",
        "\n",
        "def props(N, lst):\n",
        "  props = []\n",
        "  lst = lst\n",
        "  for i in range(7):\n",
        "    props.append(lst.count(i+1)/N)\n",
        "  return props\n",
        "\n",
        "print(props(N, lst)) # [g, gb, gbr, gr, b, br, r] estimated proportions\n",
        "\n",
        "\n",
        "#plotting the counts and the probabilities\n",
        "names = ['green', 'green blue', 'all three', 'green red', 'blue', 'blue red', 'red']\n",
        "\n",
        "fig, ax = plt.subplots()\n",
        "n, bins, patches = plt.hist(lst, rwidth=.7, align='left', facecolor='c', edgecolor = 'darkblue', bins=7)\n",
        "\n",
        "ax.set_xticks(bins)\n",
        "ax.set_xticklabels(names, rotation=45, rotation_mode='anchor', ha='right')\n",
        "\n",
        "plt.show()"
      ],
      "execution_count": null,
      "outputs": [
        {
          "output_type": "stream",
          "text": [
            "[0.1356, 0.1408, 0.1442, 0.1458, 0.1436, 0.1474, 0.1426]\n"
          ],
          "name": "stdout"
        },
        {
          "output_type": "display_data",
          "data": {
            "image/png": "[encoded data removed]",
            "text/plain": [
              "<Figure size 432x288 with 1 Axes>"
            ]
          },
          "metadata": {
            "tags": [],
            "needs_background": "light"
          }
        }
      ]
    },
    {
      "cell_type": "code",
      "metadata": {
        "id": "m6LpGHe-20_q",
        "colab_type": "code",
        "colab": {
          "base_uri": "https://localhost:8080/",
          "height": 34
        },
        "outputId": "21cdfa5f-048b-4bdd-ea83-261014ec4a66"
      },
      "source": [
        "#Running the simulation to find an accurate mean proportion:\n",
        "import numpy as np\n",
        "\n",
        "def estprops(M,N,p): #M=total number simulations, N=cells, p=probability\n",
        "  total = []\n",
        "  lst = categories(N,3,p) #this is for all stains have equal chance of success, can replace with dcategories if necessary\n",
        "  for i in range(M):\n",
        "    total.append(props(N,lst))\n",
        "  eprops = list(np.average(total, axis=0))\n",
        "  pro = [round(eprops[i], 4) for i in range(7)]\n",
        "  return pro\n",
        "\n",
        "print(estprops(100,5000,.5))\n",
        "\n",
        "#so, this concludes that, assuming every germ cell has an equal probability of being \n",
        "#stained a certain color or not, the chance that it falls into any of the 7 categories is the same, \n",
        "#approximately .1429 or 1/7. (or about 286 in every category, if N=2000)\n"
      ],
      "execution_count": null,
      "outputs": [
        {
          "output_type": "stream",
          "text": [
            "[0.1452, 0.1458, 0.1434, 0.1424, 0.1486, 0.1396, 0.135]\n"
          ],
          "name": "stdout"
        }
      ]
    },
    {
      "cell_type": "code",
      "metadata": {
        "id": "bBsyvstLLFG4",
        "colab_type": "code",
        "colab": {
          "base_uri": "https://localhost:8080/",
          "height": 317
        },
        "outputId": "c2f2dd46-b095-4c1d-cc9c-5c5736fdc256"
      },
      "source": [
        "#to play around with the individual stain probabilities of success:\n",
        "\n",
        "\n",
        "#different probabilities of success:\n",
        "def berndiff(pg, pb, pr):\n",
        "  while True:\n",
        "    l = [rbern1(pg), rbern1(pb), rbern1(pr)]\n",
        "    if sum(l)==0:\n",
        "      l = [rbern1(pg), rbern1(pb), rbern1(pr)]\n",
        "    else: return l\n",
        "\n",
        "#print(berndiff(.5,.2,.1)) #test\n",
        "\n",
        "N = 5000\n",
        "pg = .5\n",
        "pb = .5\n",
        "pr = .5\n",
        "\n",
        "\n",
        "#categories for different probabilities of success:\n",
        "\n",
        "def dcategories(N,pg, pb, pr):\n",
        "  cells= []\n",
        "  for i in range(N):\n",
        "    l = berndiff(pg,pb,pr)\n",
        "    if l[0]==1 and l[1]==0 and l[2]==0:\n",
        "      cells.append(1)                       #1 is our number for the green cells\n",
        "    elif l[0]==1 and l[1]==1 and l[2]==0:\n",
        "      cells.append(2)                       #2 is green blue\n",
        "    elif l[0]==1 and l[1]==1 and l[2]==1:\n",
        "      cells.append(3)                       #3 is all three\n",
        "    elif l[0]==1 and l[1]==0 and l[2]==1:\n",
        "      cells.append(4)                       #4 is green red\n",
        "    elif l[0]==0 and l[1]==1 and l[2]==0:\n",
        "      cells.append(5)                       #5 is blue\n",
        "    elif l[0]==0 and l[1]==1 and l[2]==1:\n",
        "      cells.append(6)                       #6 is blue red\n",
        "    elif l[0]==0 and l[1]==0 and l[2]==1:\n",
        "      cells.append(7)                       #7 is red\n",
        "  return cells\n",
        "\n",
        "#print(dcategories(N,.2,.5,.1)) #test\n",
        "\n",
        "lst1=dcategories(N,pg,pb,pr)\n",
        "\n",
        "print(props(N, lst1))\n",
        "\n",
        "#plotting the counts and the probabilities\n",
        "names = ['green', 'green blue', 'all three', 'green red', 'blue', 'blue red', 'red']\n",
        "\n",
        "fig, ax = plt.subplots()\n",
        "n, bins, patches = plt.hist(lst1, rwidth=.7, align='left', facecolor='tab:pink', edgecolor = 'm', bins=7)\n",
        "\n",
        "ax.set_xticks(bins)\n",
        "ax.set_xticklabels(names, rotation=45, rotation_mode='anchor', ha='right')\n",
        "\n",
        "plt.show()\n"
      ],
      "execution_count": null,
      "outputs": [
        {
          "output_type": "stream",
          "text": [
            "[0.1334, 0.1392, 0.159, 0.1366, 0.1476, 0.144, 0.1402]\n"
          ],
          "name": "stdout"
        },
        {
          "output_type": "display_data",
          "data": {
            "image/png": "[encoded data removed]",
            "text/plain": [
              "<Figure size 432x288 with 1 Axes>"
            ]
          },
          "metadata": {
            "tags": [],
            "needs_background": "light"
          }
        }
      ]
    },
    {
      "cell_type": "code",
      "metadata": {
        "id": "sq7e-4FJMmvi",
        "colab_type": "code",
        "colab": {
          "base_uri": "https://localhost:8080/",
          "height": 615
        },
        "outputId": "e4a98b43-6ec9-4444-c855-ebb125d0345f"
      },
      "source": [
        "# Below are some histograms showing the effects of probability of success, and you can play around with these the easiest:\n",
        "n=3\n",
        "N=5000\n",
        "\n",
        "l1 = categories(N,n,.5)\n",
        "l2=categories(N, n,.2)\n",
        "l3=categories(N, n, .8)  \n",
        "\n",
        "d1=dcategories(N,.2,.5,.8)\n",
        "d2=dcategories(N,.3,.4,.5)\n",
        "d3=dcategories(N,.7,.2,.2)\n",
        "\n",
        "names = ['green', 'green blue', 'all three', 'green red', 'blue', 'blue red', 'red']\n",
        "\n",
        "fig, ax = plt.subplots()\n",
        "n, bins, patches = ax.hist([l1,l2,l3], rwidth=.7, bins=7, label=['p=.5', 'p=.2', 'p=.8'], color=['c','m','r'])\n",
        "plt.title('Equal Probabilities')\n",
        "plt.legend(loc='upper right')\n",
        "ax.set_xticks(bins)\n",
        "ax.set_xticklabels(names, rotation=45, rotation_mode='anchor', ha='right')\n",
        "plt.show()\n",
        "\n",
        "fig, ax = plt.subplots()\n",
        "n, bins, patches = ax.hist([d1,d2,d3], rwidth=.7, bins=7, label=['red leading, ', 'slightly different', 'green leading'], color=['tab:purple','tab:pink','tab:olive'])\n",
        "plt.title('Different Stain Probabilities')\n",
        "plt.legend(loc='upper right')\n",
        "ax.set_xticks(bins)\n",
        "ax.set_xticklabels(names, rotation=45, rotation_mode='anchor', ha='right')\n",
        "plt.show()\n",
        "\n"
      ],
      "execution_count": null,
      "outputs": [
        {
          "output_type": "display_data",
          "data": {
            "image/png": "[encoded data removed]",
            "text/plain": [
              "<Figure size 432x288 with 1 Axes>"
            ]
          },
          "metadata": {
            "tags": [],
            "needs_background": "light"
          }
        },
        {
          "output_type": "display_data",
          "data": {
            "image/png": "[encoded data removed]",
            "text/plain": [
              "<Figure size 432x288 with 1 Axes>"
            ]
          },
          "metadata": {
            "tags": [],
            "needs_background": "light"
          }
        }
      ]
    }
  ]
}